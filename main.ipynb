{
 "cells": [
  {
   "cell_type": "code",
   "execution_count": null,
   "id": "905fcac0",
   "metadata": {},
   "outputs": [],
   "source": [
    "from dotenv import load_dotenv\n",
    "import os\n",
    "import openai\n",
    "\n",
    "# Charger les variables d'environnement\n",
    "load_dotenv()\n",
    "\n",
    "# Config OpenAI via Azure\n",
    "openai.api_type = \"azure\"\n",
    "openai.api_key = os.getenv(\"OPENAI_API_KEY\")\n",
    "openai.api_base = os.getenv(\"OPENAI_API_BASE\")\n",
    "openai.api_version = os.getenv(\"OPENAI_API_VERSION\")\n",
    "\n",
    "DEPLOYMENT_NAME = os.getenv(\"AZURE_MODEL_DEPLOYMENT\")\n",
    "EMBEDDING_NAME = os.getenv(\"AZURE_EMBEDDING_DEPLOYMENT\")"
   ]
  },
  {
   "cell_type": "code",
   "execution_count": null,
   "id": "b12a7385",
   "metadata": {},
   "outputs": [
    {
     "name": "stdout",
     "output_type": "stream",
     "text": [
      "\"OK\n"
     ]
    },
    {
     "ename": "",
     "evalue": "",
     "output_type": "error",
     "traceback": [
      "\u001b[1;31mThe Kernel crashed while executing code in the current cell or a previous cell. \n",
      "\u001b[1;31mPlease review the code in the cell(s) to identify a possible cause of the failure. \n",
      "\u001b[1;31mClick <a href='https://aka.ms/vscodeJupyterKernelCrash'>here</a> for more info. \n",
      "\u001b[1;31mView Jupyter <a href='command:jupyter.viewOutput'>log</a> for further details."
     ]
    }
   ],
   "source": [
    "response = openai.ChatCompletion.create(\n",
    "    engine=DEPLOYMENT_NAME,\n",
    "    messages=[{\"role\": \"user\", \"content\": \"dis 'ok'\"}],\n",
    "    temperature=0,\n",
    "    max_tokens=2,\n",
    ")\n",
    "print(response.choices[0].message.content)"
   ]
  },
  {
   "cell_type": "code",
   "execution_count": null,
   "id": "5d9f2e53",
   "metadata": {},
   "outputs": [],
   "source": [
    "from unstructured.partition.auto import partition\n",
    "from pathlib import Path\n",
    "\n",
    "def load_all_files(folder_path):\n",
    "    docs = []\n",
    "    target = Path(folder_path) / \"rules.txt\"\n",
    "    if not target.exists():\n",
    "        print(\"[!] Le fichier rules.txt est introuvable dans le dossier.\")\n",
    "        return docs\n",
    "    try:\n",
    "        print(f\"[...] Lecture unique de : {target.name}\")\n",
    "        with open(target, \"r\", encoding=\"utf-8\") as f:\n",
    "            text = f.read()\n",
    "            docs.append(text)\n",
    "    except Exception as e:\n",
    "        print(f\"[!] Erreur sur {target.name} : {e}\")\n",
    "    return docs"
   ]
  },
  {
   "cell_type": "markdown",
   "id": "06e424a0",
   "metadata": {},
   "source": [
    "# Chunks + RAG"
   ]
  },
  {
   "cell_type": "code",
   "execution_count": null,
   "id": "f128af5d",
   "metadata": {},
   "outputs": [
    {
     "name": "stdout",
     "output_type": "stream",
     "text": [
      "Nombre de chunks : 1\n"
     ]
    }
   ],
   "source": [
    "def chunk_text(text, max_tokens=500):\n",
    "    import tiktoken\n",
    "    enc = tiktoken.get_encoding(\"cl100k_base\")\n",
    "    paragraphs = text.split(\"\\n\\n\")\n",
    "    chunks = []\n",
    "    current = \"\"\n",
    "    for para in paragraphs:\n",
    "        if len(enc.encode(current + para)) > max_tokens:\n",
    "            chunks.append(current.strip())\n",
    "            current = para\n",
    "        else:\n",
    "            current += \"\\n\\n\" + para\n",
    "    chunks.append(current.strip())\n",
    "    return chunks"
   ]
  },
  {
   "cell_type": "code",
   "execution_count": null,
   "id": "6dacfa10",
   "metadata": {},
   "outputs": [],
   "source": [
    "texts = load_all_files(\"docs/\")\n",
    "chunks = []\n",
    "for text in texts:\n",
    "    chunks.extend(chunk_text(text))\n",
    "\n",
    "print(f\"Nombre total de chunks : {len(chunks)}\")"
   ]
  },
  {
   "cell_type": "code",
   "execution_count": null,
   "id": "bf51e015",
   "metadata": {},
   "outputs": [],
   "source": [
    "chunk_vectors = []\n",
    "\n",
    "import time\n",
    "from openai.error import RateLimitError\n",
    "\n",
    "def safe_embed(text):\n",
    "    for _ in range(3):  # 3 tentatives max\n",
    "        try:\n",
    "            return openai.Embedding.create(input=text, engine=EMBEDDING_NAME)\n",
    "        except RateLimitError:\n",
    "            print(\"Quota atteint, pause 60s...\")\n",
    "            time.sleep(60)\n",
    "    raise RuntimeError(\"Échec embedding après 3 essais\")\n",
    "\n",
    "for chunk in chunks:\n",
    "    res = safe_embed(chunk)\n",
    "    vec = res[\"data\"][0][\"embedding\"]\n",
    "    chunk_vectors.append((chunk, vec))"
   ]
  },
  {
   "cell_type": "code",
   "execution_count": null,
   "id": "9d5d9db9",
   "metadata": {},
   "outputs": [],
   "source": [
    "import numpy as np\n",
    "\n",
    "def cosine_sim(v1, v2):\n",
    "    a, b = np.array(v1), np.array(v2)\n",
    "    return np.dot(a, b) / (np.linalg.norm(a) * np.linalg.norm(b))\n",
    "\n",
    "def retrieve_relevant_chunks(question, top_k=3):\n",
    "    q_vec = openai.Embedding.create(input=question, engine=EMBEDDING_NAME)[\"data\"][0][\"embedding\"]\n",
    "    ranked = sorted(chunk_vectors, key=lambda x: cosine_sim(x[1], q_vec), reverse=True)\n",
    "    return [c[0] for c in ranked[:top_k]]"
   ]
  },
  {
   "cell_type": "code",
   "execution_count": null,
   "id": "70efe015",
   "metadata": {},
   "outputs": [],
   "source": [
    "def build_prompt(chunks, question):\n",
    "    context = \"\\n\\n\".join(chunks)\n",
    "    return f\"\"\"\n",
    "Tu es un assistant professionnel. Réponds strictement à la question en utilisant uniquement les données fournies.\n",
    "\n",
    "NE PAS INVENTER. Ne pas générer d'informations personnelles. Aucun contenu sensible.\n",
    "\n",
    "CONNAISSANCES :\n",
    "{context}\n",
    "\n",
    "QUESTION :\n",
    "{question}\n",
    "\n",
    "RÉPONSE :\n",
    "\"\"\""
   ]
  },
  {
   "cell_type": "code",
   "execution_count": null,
   "id": "af286ef8",
   "metadata": {},
   "outputs": [],
   "source": [
    "def ask_rag(question):\n",
    "    top_chunks = retrieve_relevant_chunks(question)\n",
    "    prompt = build_prompt(top_chunks, question)\n",
    "    response = openai.ChatCompletion.create(\n",
    "        engine=DEPLOYMENT_NAME,\n",
    "        messages=[{\"role\": \"user\", \"content\": prompt}],\n",
    "        temperature=0\n",
    "    )\n",
    "    return response.choices[0].message.content.strip()"
   ]
  },
  {
   "cell_type": "markdown",
   "id": "25d12db5",
   "metadata": {},
   "source": [
    "### Poser questions au modèle RAG"
   ]
  },
  {
   "cell_type": "code",
   "execution_count": null,
   "id": "c65ba974",
   "metadata": {},
   "outputs": [
    {
     "data": {
      "text/plain": [
       "'La session prend fin si :  \\n- Tous les Segments sont validés  \\n- Un acteur utilise la clause Dormante  \\n- Un Document Sourd est invoqué 2 fois'"
      ]
     },
     "execution_count": 8,
     "metadata": {},
     "output_type": "execute_result"
    }
   ],
   "source": [
    "ask_rag(\"Quelle est la durée annuelle de travail prévue pour un cadre en forfait jours selon l'accord d'entreprise\")"
   ]
  }
 ],
 "metadata": {
  "kernelspec": {
   "display_name": "Python 3",
   "language": "python",
   "name": "python3"
  },
  "language_info": {
   "codemirror_mode": {
    "name": "ipython",
    "version": 3
   },
   "file_extension": ".py",
   "mimetype": "text/x-python",
   "name": "python",
   "nbconvert_exporter": "python",
   "pygments_lexer": "ipython3",
   "version": "3.12.4"
  }
 },
 "nbformat": 4,
 "nbformat_minor": 5
}
