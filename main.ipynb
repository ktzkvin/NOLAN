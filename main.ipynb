{
 "cells": [
  {
   "cell_type": "code",
   "execution_count": 24,
   "id": "905fcac0",
   "metadata": {},
   "outputs": [],
   "source": [
    "from dotenv import load_dotenv\n",
    "import os\n",
    "import openai\n",
    "\n",
    "# Charge les variables du fichier .env\n",
    "load_dotenv()\n",
    "\n",
    "# Configuration Azure OpenAI\n",
    "openai.api_type = \"azure\"\n",
    "openai.api_key = os.getenv(\"OPENAI_API_KEY\")\n",
    "openai.api_base = os.getenv(\"OPENAI_API_BASE\")\n",
    "openai.api_version = os.getenv(\"OPENAI_API_VERSION\")\n",
    "\n",
    "DEPLOYMENT_NAME = os.getenv(\"AZURE_MODEL_DEPLOYMENT\")\n",
    "EMBEDDING_NAME = os.getenv(\"AZURE_EMBEDDING_DEPLOYMENT\")\n"
   ]
  },
  {
   "cell_type": "code",
   "execution_count": 25,
   "id": "b12a7385",
   "metadata": {},
   "outputs": [
    {
     "name": "stdout",
     "output_type": "stream",
     "text": [
      "Oui, je te vois ! 😊 Je suis là pour répondre à tes questions et t'aider. Que puis-je faire pour toi aujourd'hui ?\n"
     ]
    }
   ],
   "source": [
    "response = openai.ChatCompletion.create(\n",
    "    engine=DEPLOYMENT_NAME,\n",
    "    messages=[\n",
    "        {\"role\": \"user\", \"content\": \"Test depuis Azure OpenAI, est-ce que tu me vois ?\"}\n",
    "    ],\n",
    "    temperature=0\n",
    ")\n",
    "\n",
    "print(response.choices[0].message.content)\n"
   ]
  },
  {
   "cell_type": "code",
   "execution_count": 26,
   "id": "5d9f2e53",
   "metadata": {},
   "outputs": [
    {
     "name": "stdout",
     "output_type": "stream",
     "text": [
      "Longueur vecteur : 1536\n"
     ]
    }
   ],
   "source": [
    "embedding = openai.Embedding.create(\n",
    "    input=\"ma mère s'appelle Nadeige\",\n",
    "    engine=EMBEDDING_NAME\n",
    ")\n",
    "\n",
    "print(f\"Longueur vecteur : {len(embedding['data'][0]['embedding'])}\")\n"
   ]
  },
  {
   "cell_type": "markdown",
   "id": "06e424a0",
   "metadata": {},
   "source": [
    "# RAG\n"
   ]
  },
  {
   "cell_type": "code",
   "execution_count": 27,
   "id": "f128af5d",
   "metadata": {},
   "outputs": [
    {
     "name": "stdout",
     "output_type": "stream",
     "text": [
      "Nombre de chunks : 1\n"
     ]
    }
   ],
   "source": [
    "def chunk_text(text, max_tokens=500):\n",
    "    import tiktoken\n",
    "    enc = tiktoken.get_encoding(\"cl100k_base\")\n",
    "    paragraphs = text.split(\"\\n\\n\")\n",
    "    chunks = []\n",
    "    current = \"\"\n",
    "    for para in paragraphs:\n",
    "        if len(enc.encode(current + para)) > max_tokens:\n",
    "            chunks.append(current.strip())\n",
    "            current = para\n",
    "        else:\n",
    "            current += \"\\n\\n\" + para\n",
    "    chunks.append(current.strip())\n",
    "    return chunks\n",
    "\n",
    "with open(\"docs/rules.txt\", \"r\", encoding=\"utf-8\") as f:\n",
    "    doc = f.read()\n",
    "\n",
    "chunks = chunk_text(doc)\n",
    "print(f\"Nombre de chunks : {len(chunks)}\")\n"
   ]
  },
  {
   "cell_type": "code",
   "execution_count": 28,
   "id": "6dacfa10",
   "metadata": {},
   "outputs": [],
   "source": [
    "chunk_vectors = []\n",
    "for chunk in chunks:\n",
    "    res = openai.Embedding.create(input=chunk, engine=EMBEDDING_NAME)\n",
    "    vec = res[\"data\"][0][\"embedding\"]\n",
    "    chunk_vectors.append((chunk, vec))\n"
   ]
  },
  {
   "cell_type": "code",
   "execution_count": 29,
   "id": "9d5d9db9",
   "metadata": {},
   "outputs": [],
   "source": [
    "import numpy as np\n",
    "\n",
    "def cosine_sim(v1, v2):\n",
    "    a, b = np.array(v1), np.array(v2)\n",
    "    return np.dot(a, b) / (np.linalg.norm(a) * np.linalg.norm(b))\n",
    "\n",
    "def retrieve_relevant_chunks(question, top_k=3):\n",
    "    q_vec = openai.Embedding.create(input=question, engine=EMBEDDING_NAME)[\"data\"][0][\"embedding\"]\n",
    "    ranked = sorted(chunk_vectors, key=lambda x: cosine_sim(x[1], q_vec), reverse=True)\n",
    "    return [c[0] for c in ranked[:top_k]]\n"
   ]
  },
  {
   "cell_type": "code",
   "execution_count": 30,
   "id": "70efe015",
   "metadata": {},
   "outputs": [],
   "source": [
    "def build_prompt(chunks, question):\n",
    "    context = \"\\n\\n\".join(chunks)\n",
    "    return f\"\"\"\n",
    "Tu es un assistant qui répond uniquement avec les informations suivantes. Si l'information n'y est pas, dis-le clairement.\n",
    "\n",
    "CONNAISSANCES :\n",
    "{context}\n",
    "\n",
    "QUESTION :\n",
    "{question}\n",
    "\n",
    "RÉPONSE :\n",
    "\"\"\"\n",
    "\n",
    "def ask_rag(question):\n",
    "    top_chunks = retrieve_relevant_chunks(question)\n",
    "    prompt = build_prompt(top_chunks, question)\n",
    "    response = openai.ChatCompletion.create(\n",
    "        engine=DEPLOYMENT_NAME,\n",
    "        messages=[{\"role\": \"user\", \"content\": prompt}],\n",
    "        temperature=0\n",
    "    )\n",
    "    return response.choices[0].message.content.strip()\n"
   ]
  },
  {
   "cell_type": "code",
   "execution_count": 31,
   "id": "c65ba974",
   "metadata": {},
   "outputs": [
    {
     "data": {
      "text/plain": [
       "'La mère d\\'Hugo s\\'appelle \"développe ton racisme\".'"
      ]
     },
     "execution_count": 31,
     "metadata": {},
     "output_type": "execute_result"
    }
   ],
   "source": [
    "ask_rag(\"Comment s'appelle la mère d'Hugo ?\")\n"
   ]
  }
 ],
 "metadata": {
  "kernelspec": {
   "display_name": ".venv",
   "language": "python",
   "name": "python3"
  },
  "language_info": {
   "codemirror_mode": {
    "name": "ipython",
    "version": 3
   },
   "file_extension": ".py",
   "mimetype": "text/x-python",
   "name": "python",
   "nbconvert_exporter": "python",
   "pygments_lexer": "ipython3",
   "version": "3.12.4"
  }
 },
 "nbformat": 4,
 "nbformat_minor": 5
}
