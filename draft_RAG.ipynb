{
 "cells": [
  {
   "cell_type": "code",
   "execution_count": 1,
   "id": "905fcac0",
   "metadata": {},
   "outputs": [],
   "source": [
    "from dotenv import load_dotenv\n",
    "import os\n",
    "import openai\n",
    "\n",
    "# Charger les variables d'environnement\n",
    "load_dotenv()\n",
    "\n",
    "# Config OpenAI via Azure\n",
    "openai.api_type = \"azure\"\n",
    "openai.api_key = os.getenv(\"OPENAI_API_KEY\")\n",
    "openai.api_base = os.getenv(\"OPENAI_API_BASE\")\n",
    "openai.api_version = os.getenv(\"OPENAI_API_VERSION\")\n",
    "\n",
    "DEPLOYMENT_NAME = os.getenv(\"AZURE_MODEL_DEPLOYMENT\")\n",
    "EMBEDDING_NAME = os.getenv(\"AZURE_EMBEDDING_DEPLOYMENT\")"
   ]
  },
  {
   "cell_type": "code",
   "execution_count": 2,
   "id": "38e26b4d",
   "metadata": {},
   "outputs": [],
   "source": [
    "from azure.storage.blob import BlobServiceClient\n",
    "from io import BytesIO\n",
    "\n",
    "BLOB_CONTAINER = \"nolan-rag-files\"\n",
    "blob_service_client = BlobServiceClient.from_connection_string(os.getenv(\"AZURE_STORAGE_CONNECTION_STRING\"))\n",
    "container_client = blob_service_client.get_container_client(BLOB_CONTAINER)"
   ]
  },
  {
   "cell_type": "code",
   "execution_count": 3,
   "id": "b12a7385",
   "metadata": {},
   "outputs": [
    {
     "name": "stdout",
     "output_type": "stream",
     "text": [
      "\"OK\n"
     ]
    }
   ],
   "source": [
    "response = openai.ChatCompletion.create(\n",
    "    engine=DEPLOYMENT_NAME,\n",
    "    messages=[{\"role\": \"user\", \"content\": \"dis 'ok'\"}],\n",
    "    temperature=0,\n",
    "    max_tokens=2,\n",
    ")\n",
    "print(response.choices[0].message.content)"
   ]
  },
  {
   "cell_type": "code",
   "execution_count": 4,
   "id": "5d9f2e53",
   "metadata": {},
   "outputs": [],
   "source": [
    "from pathlib import Path\n",
    "from docx import Document\n",
    "import pandas as pd\n",
    "import fitz  # pymupdf\n",
    "\n",
    "def extract_text_from_file(file_path: Path) -> str:\n",
    "    ext = file_path.suffix.lower()\n",
    "    try:\n",
    "        if ext == \".txt\":\n",
    "            return file_path.read_text(encoding=\"utf-8\", errors=\"ignore\")\n",
    "        elif ext == \".pdf\":\n",
    "            doc = fitz.open(str(file_path))\n",
    "            return \"\\n\".join(page.get_text() for page in doc)\n",
    "        elif ext == \".docx\":\n",
    "            doc = Document(str(file_path))\n",
    "            return \"\\n\".join(p.text for p in doc.paragraphs)\n",
    "        elif ext == \".csv\":\n",
    "            try:\n",
    "                df = pd.read_csv(file_path, encoding=\"utf-8\")\n",
    "            except UnicodeDecodeError:\n",
    "                df = pd.read_csv(file_path, encoding=\"latin1\")\n",
    "            return df.to_string(index=False)\n",
    "\n",
    "        else:\n",
    "            print(f\"[!] Format non supporté : {file_path.name}\")\n",
    "            return \"\"\n",
    "    except Exception as e:\n",
    "        print(f\"[!] Erreur lecture {file_path.name} : {e}\")\n",
    "        return \"\"\n",
    "\n",
    "def load_all_files_from_blob() -> list[str]:\n",
    "    docs = []\n",
    "    for blob in container_client.list_blobs():\n",
    "        print(f\"[...] Extraction : {blob.name}\")\n",
    "        try:\n",
    "            downloader = container_client.download_blob(blob.name)\n",
    "            data = BytesIO(downloader.readall())\n",
    "            ext = Path(blob.name).suffix.lower()\n",
    "\n",
    "            if ext == \".txt\":\n",
    "                content = data.read().decode(\"utf-8\", errors=\"ignore\")\n",
    "            elif ext == \".pdf\":\n",
    "                doc = fitz.open(stream=data, filetype=\"pdf\")\n",
    "                content = \"\\n\".join(page.get_text() for page in doc)\n",
    "            elif ext == \".docx\":\n",
    "                doc = Document(data)\n",
    "                content = \"\\n\".join(p.text for p in doc.paragraphs)\n",
    "            elif ext == \".csv\":\n",
    "                try:\n",
    "                    df = pd.read_csv(data, encoding=\"utf-8\")\n",
    "                except UnicodeDecodeError:\n",
    "                    data.seek(0)\n",
    "                    df = pd.read_csv(data, encoding=\"latin1\")\n",
    "                content = df.to_string(index=False)\n",
    "            else:\n",
    "                print(f\"[!] Format non supporté : {blob.name}\")\n",
    "                continue\n",
    "\n",
    "            if content.strip():\n",
    "                docs.append(content)\n",
    "            else:\n",
    "                print(f\"[!] Aucun texte dans : {blob.name}\")\n",
    "        except Exception as e:\n",
    "            print(f\"[!] Erreur sur {blob.name} : {e}\")\n",
    "    return docs\n"
   ]
  },
  {
   "cell_type": "markdown",
   "id": "06e424a0",
   "metadata": {},
   "source": [
    "# Chunks + RAG"
   ]
  },
  {
   "cell_type": "code",
   "execution_count": 5,
   "id": "f128af5d",
   "metadata": {},
   "outputs": [],
   "source": [
    "def chunk_text(text, max_tokens=500):\n",
    "    import tiktoken\n",
    "    enc = tiktoken.get_encoding(\"cl100k_base\")\n",
    "    paragraphs = text.split(\"\\n\\n\")\n",
    "    chunks = []\n",
    "    current = \"\"\n",
    "    for para in paragraphs:\n",
    "        if len(enc.encode(current + para)) > max_tokens:\n",
    "            chunks.append(current.strip())\n",
    "            current = para\n",
    "        else:\n",
    "            current += \"\\n\\n\" + para\n",
    "    chunks.append(current.strip())\n",
    "    return chunks"
   ]
  },
  {
   "cell_type": "code",
   "execution_count": 6,
   "id": "6dacfa10",
   "metadata": {},
   "outputs": [
    {
     "name": "stdout",
     "output_type": "stream",
     "text": [
      "[...] Extraction : CONTRAT DE TRAVAIL À DURÉE INDÉTERMINÉE.docx\n",
      "[...] Extraction : Convention_collective_syntec.pdf\n",
      "[...] Extraction : Fiche de paie.pdf\n",
      "[...] Extraction : Indemnités et primes de transport.docx\n",
      "[...] Extraction : Règlement Intérieur de l’Entreprise (Contoso) et Accord d’Entreprise sur le Temps de Travail et les RTT.pdf\n",
      "[...] Extraction : hr_dataset_fr_new.csv\n",
      "Nombre total de chunks : 69\n"
     ]
    }
   ],
   "source": [
    "texts = load_all_files_from_blob()\n",
    "chunks = []\n",
    "for text in texts:\n",
    "    chunks.extend(chunk_text(text))\n",
    "\n",
    "print(f\"Nombre total de chunks : {len(chunks)}\")"
   ]
  },
  {
   "cell_type": "code",
   "execution_count": 7,
   "id": "bf51e015",
   "metadata": {},
   "outputs": [],
   "source": [
    "import tiktoken\n",
    "import time\n",
    "from openai.error import RateLimitError\n",
    "\n",
    "enc = tiktoken.get_encoding(\"cl100k_base\")\n",
    "MAX_EMBED_TOKENS = 8192  # Ajuste selon la limite de ton modèle\n",
    "\n",
    "def truncate_text_to_max_tokens(text, max_tokens=MAX_EMBED_TOKENS):\n",
    "    tokens = enc.encode(text)\n",
    "    if len(tokens) > max_tokens:\n",
    "        tokens = tokens[:max_tokens]\n",
    "    return enc.decode(tokens)\n",
    "\n",
    "def safe_embed(text):\n",
    "    for _ in range(3):  # 3 tentatives max en cas de RateLimitError\n",
    "        try:\n",
    "            return openai.Embedding.create(input=text, engine=EMBEDDING_NAME)\n",
    "        except RateLimitError:\n",
    "            print(\"Quota atteint, pause 60s...\")\n",
    "            time.sleep(60)\n",
    "    raise RuntimeError(\"Échec embedding après 3 essais\")\n",
    "\n",
    "chunk_vectors = []\n",
    "for chunk in chunks:\n",
    "    short_chunk = truncate_text_to_max_tokens(chunk, MAX_EMBED_TOKENS)\n",
    "    res = safe_embed(short_chunk)\n",
    "    vec = res[\"data\"][0][\"embedding\"]\n",
    "    chunk_vectors.append((chunk, vec))  # stocker chunk original pour contexte\n"
   ]
  },
  {
   "cell_type": "code",
   "execution_count": 8,
   "id": "9d5d9db9",
   "metadata": {},
   "outputs": [],
   "source": [
    "import numpy as np\n",
    "\n",
    "def cosine_sim(v1, v2):\n",
    "    a, b = np.array(v1), np.array(v2)\n",
    "    return np.dot(a, b) / (np.linalg.norm(a) * np.linalg.norm(b))\n",
    "\n",
    "def retrieve_relevant_chunks(question, top_k=3):\n",
    "    q_vec = openai.Embedding.create(input=question, engine=EMBEDDING_NAME)[\"data\"][0][\"embedding\"]\n",
    "    ranked = sorted(chunk_vectors, key=lambda x: cosine_sim(x[1], q_vec), reverse=True)\n",
    "    return [c[0] for c in ranked[:top_k]]"
   ]
  },
  {
   "cell_type": "code",
   "execution_count": 9,
   "id": "70efe015",
   "metadata": {},
   "outputs": [],
   "source": [
    "def build_prompt(chunks, question):\n",
    "    context = \"\\n\\n\".join(chunks)\n",
    "    return f\"\"\"\n",
    "Tu es un assistant professionnel. Réponds strictement à la question en utilisant uniquement les données fournies.\n",
    "\n",
    "NE PAS INVENTER. Ne pas générer d'informations personnelles. Aucun contenu sensible.\n",
    "\n",
    "CONNAISSANCES :\n",
    "{context}\n",
    "\n",
    "QUESTION :\n",
    "{question}\n",
    "\n",
    "RÉPONSE :\n",
    "\"\"\""
   ]
  },
  {
   "cell_type": "code",
   "execution_count": 10,
   "id": "af286ef8",
   "metadata": {},
   "outputs": [],
   "source": [
    "def ask_rag(question):\n",
    "    top_chunks = retrieve_relevant_chunks(question)\n",
    "    prompt = build_prompt(top_chunks, question)\n",
    "    response = openai.ChatCompletion.create(\n",
    "        engine=DEPLOYMENT_NAME,\n",
    "        messages=[{\"role\": \"user\", \"content\": prompt}],\n",
    "        temperature=0\n",
    "    )\n",
    "    return response.choices[0].message.content.strip()"
   ]
  },
  {
   "cell_type": "markdown",
   "id": "25d12db5",
   "metadata": {},
   "source": [
    "### Poser questions au modèle RAG"
   ]
  },
  {
   "cell_type": "code",
   "execution_count": 11,
   "id": "c65ba974",
   "metadata": {},
   "outputs": [
    {
     "data": {
      "text/plain": [
       "'Les modalités de validation et de prise des jours de RTT pour les cadres en forfait jours chez Contoso SAS sont les suivantes :  \\n- Les jours de RTT doivent être posés via le portail RH, avec un délai de préavis de 7 jours minimum, sauf cas exceptionnels.  \\n- La validation des RTT est soumise à l’accord du manager, qui s’assure de la continuité des activités.  \\n- Les RTT doivent être pris avant le 31 décembre de l’année en cours. Aucun report ou indemnisation n’est prévu pour les jours non pris.'"
      ]
     },
     "execution_count": 11,
     "metadata": {},
     "output_type": "execute_result"
    }
   ],
   "source": [
    "ask_rag(\"Quelles sont les modalités de validation et de prise des jours de RTT pour les cadres en forfait jours chez Contoso SAS ?\")"
   ]
  },
  {
   "cell_type": "code",
   "execution_count": 14,
   "id": "3771846b",
   "metadata": {},
   "outputs": [
    {
     "name": "stdout",
     "output_type": "stream",
     "text": [
      "['id;nom;email;departement;Manager;poste;responsable;date_embauche;conges.droit_annuel;conges.utilises;conges.planifies;conges.restants;conges_maladie.droit;conges_maladie.utilises;conges_maladie.restants;remuneration.salaire;remuneration.eligible_prime;remuneration.date_prochaine_evaluation;avantages.regime_sante']\n"
     ]
    }
   ],
   "source": [
    "import pandas as pd\n",
    "\n",
    "df = pd.read_csv(\"docs/hr_dataset_fr_new.csv\", encoding=\"latin1\", on_bad_lines=\"skip\")\n",
    "print(df.columns.tolist())\n"
   ]
  }
 ],
 "metadata": {
  "kernelspec": {
   "display_name": "nolan-env",
   "language": "python",
   "name": "python3"
  },
  "language_info": {
   "codemirror_mode": {
    "name": "ipython",
    "version": 3
   },
   "file_extension": ".py",
   "mimetype": "text/x-python",
   "name": "python",
   "nbconvert_exporter": "python",
   "pygments_lexer": "ipython3",
   "version": "3.10.10"
  }
 },
 "nbformat": 4,
 "nbformat_minor": 5
}
